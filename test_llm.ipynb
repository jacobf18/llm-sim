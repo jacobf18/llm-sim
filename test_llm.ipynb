{
 "cells": [
  {
   "cell_type": "markdown",
   "metadata": {},
   "source": [
    "In this notebook, we test 2 capabilities of LLMs:\n",
    "\n",
    "1. **Recognition**: Can an LLM recognize that a state-action trajectory is different than what is expected?\n",
    "2. **Rectification**: Can an LLM update simulation code to match the expected state-action trajectory?"
   ]
  },
  {
   "cell_type": "code",
   "execution_count": null,
   "metadata": {},
   "outputs": [],
   "source": [
    "import gymnasium as gym"
   ]
  }
 ],
 "metadata": {
  "kernelspec": {
   "display_name": "llmsim",
   "language": "python",
   "name": "python3"
  },
  "language_info": {
   "name": "python",
   "version": "3.11.10"
  }
 },
 "nbformat": 4,
 "nbformat_minor": 2
}
